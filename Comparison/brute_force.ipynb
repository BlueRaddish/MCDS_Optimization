{
 "cells": [
  {
   "cell_type": "markdown",
   "id": "dc75bf08",
   "metadata": {},
   "source": [
    "# Setup"
   ]
  },
  {
   "cell_type": "markdown",
   "id": "5a6428f5",
   "metadata": {},
   "source": [
    "## Imports"
   ]
  },
  {
   "cell_type": "code",
   "execution_count": 1,
   "id": "485a3fca",
   "metadata": {},
   "outputs": [],
   "source": [
    "import networkx as nx\n",
    "import matplotlib.pyplot as plt\n",
    "import itertools"
   ]
  },
  {
   "cell_type": "markdown",
   "id": "0346aee8",
   "metadata": {},
   "source": [
    "## Help Functions"
   ]
  },
  {
   "cell_type": "code",
   "execution_count": null,
   "id": "9c1a5793",
   "metadata": {},
   "outputs": [],
   "source": [
    "# Help functions\n",
    "def plot_graph(graph, pos=None):\n",
    "    plt.figure(figsize=(6,6))\n",
    "    pos = {(x,y):(y,-x) for x,y in graph.nodes()}\n",
    "    nx.draw(graph, pos=pos, \n",
    "            node_color='lightgreen', \n",
    "            with_labels=True,\n",
    "            node_size=600)\n",
    "    \n",
    "def is_connected_subgraph(G, nodes=None):\n",
    "    if type(G) == 'networkx.classes.graph.Graph':\n",
    "        subG = G.subgraph(nodes)\n",
    "        return nx.is_connected(subG)\n",
    "    return \"undefined function for this type of graph\"\n",
    "\n",
    "def adjacent_8(G, node):\n",
    "    \"\"\"\n",
    "    Returns the 8 adjacent nodes of a given node in a graph.\n",
    "    \"\"\"\n",
    "    x, y = node\n",
    "    adj = [(x-1, y-1),  (x-1, y),   (x-1, y+1),\n",
    "           (x, y-1),                (x, y+1),\n",
    "           (x+1, y-1),  (x+1, y),   (x+1, y+1)]\n",
    "    \n",
    "    # Filter out nodes that are not in the graph\n",
    "    return [n for n in adj if n in G.nodes()]\n",
    "\n",
    "def adjacent_4(G, node):\n",
    "    \"\"\"\n",
    "    Returns the 4 adjacent nodes of a given node in a graph.\n",
    "    \"\"\"\n",
    "    x, y = node\n",
    "    adj = [(x-1, y), (x+1, y), (x, y-1), (x, y+1)]\n",
    "    \n",
    "    # Filter out nodes that are not in the graph\n",
    "    return [n for n in adj if n in G.nodes()]\n",
    "\n",
    "def is_connected_dominating_set(G, nodes):\n",
    "    \"\"\"\n",
    "    Check if a set of nodes is a connected dominating set in the graph.\n",
    "    \"\"\"\n",
    "    # Check if the nodes form a dominating set\n",
    "    for node in G.nodes():\n",
    "        if node not in nodes and not any(adj in nodes for adj in G.neighbors(node)):\n",
    "            return False\n",
    "    \n",
    "    # Check if the nodes are connected\n",
    "    subG = G.subgraph(nodes)\n",
    "    return is_connected_subgraph(subG)\n",
    "\n",
    "def generate_2D_grid_graph(rows, cols):\n",
    "    \"\"\"\n",
    "    Generate a 2D grid graph with the specified number of rows and columns.\n",
    "    \"\"\"\n",
    "    G = nx.grid_2d_graph(rows, cols)\n",
    "    return G"
   ]
  },
  {
   "cell_type": "markdown",
   "id": "6bca9f4a",
   "metadata": {},
   "source": [
    "# Brute Forcing"
   ]
  },
  {
   "cell_type": "code",
   "execution_count": 13,
   "id": "021fa323",
   "metadata": {},
   "outputs": [
    {
     "data": {
      "text/plain": [
       "networkx.classes.graph.Graph"
      ]
     },
     "execution_count": 13,
     "metadata": {},
     "output_type": "execute_result"
    },
    {
     "data": {
      "image/png": "[encoded data removed]",
      "text/plain": [
       "<Figure size 600x600 with 1 Axes>"
      ]
     },
     "metadata": {},
     "output_type": "display_data"
    }
   ],
   "source": [
    "# Generate a single graph\n",
    "rows, cols = 5, 5\n",
    "grid_graph = generate_2D_grid_graph(rows, cols)\n",
    "adjacency_matrix = nx.adjacency_matrix(grid_graph).todense()\n",
    "\n",
    "plot_graph(grid_graph)\n",
    "\n",
    "type(grid_graph)"
   ]
  },
  {
   "cell_type": "code",
   "execution_count": 14,
   "id": "94d1fabb",
   "metadata": {},
   "outputs": [
    {
     "name": "stdout",
     "output_type": "stream",
     "text": [
      "Dominating set found: ((0, 0), (0, 2), (1, 4), (2, 1), (3, 3), (4, 0), (4, 3))\n",
      "Dominating set found: ((0, 0), (0, 1), (0, 2), (1, 4), (2, 1), (3, 3), (4, 0), (4, 3))\n",
      "Dominating set found: ((0, 0), (0, 1), (0, 2), (0, 3), (0, 4), (2, 2), (3, 0), (3, 4), (4, 2))\n",
      "Dominating set found: ((0, 0), (0, 1), (0, 2), (0, 3), (0, 4), (1, 0), (2, 2), (3, 0), (3, 4), (4, 2))\n",
      "Dominating set found: ((0, 0), (0, 1), (0, 2), (0, 3), (0, 4), (1, 0), (1, 1), (2, 2), (3, 0), (3, 4), (4, 2))\n",
      "Dominating set found: ((0, 0), (0, 1), (0, 2), (0, 3), (0, 4), (1, 0), (1, 1), (1, 2), (1, 3), (3, 0), (3, 4), (4, 2))\n",
      "Dominating set found: ((0, 0), (0, 1), (0, 2), (0, 3), (0, 4), (1, 0), (1, 1), (1, 2), (1, 3), (1, 4), (3, 0), (3, 4), (4, 2))\n",
      "Dominating set found: ((0, 0), (0, 1), (0, 2), (0, 3), (0, 4), (1, 0), (1, 1), (1, 2), (1, 3), (1, 4), (2, 0), (3, 0), (3, 4), (4, 2))\n",
      "Dominating set found: ((0, 0), (0, 1), (0, 2), (0, 3), (0, 4), (1, 0), (1, 1), (1, 2), (1, 3), (1, 4), (2, 0), (2, 1), (3, 0), (3, 4), (4, 2))\n",
      "Dominating set found: ((0, 0), (0, 1), (0, 2), (0, 3), (0, 4), (1, 0), (1, 1), (1, 2), (1, 3), (1, 4), (2, 0), (2, 1), (2, 2), (2, 3), (4, 1), (4, 4))\n",
      "Dominating set found: ((0, 0), (0, 1), (0, 2), (0, 3), (0, 4), (1, 0), (1, 1), (1, 2), (1, 3), (1, 4), (2, 0), (2, 1), (2, 2), (2, 3), (2, 4), (4, 0), (4, 3))\n",
      "Dominating set found: ((0, 0), (0, 1), (0, 2), (0, 3), (0, 4), (1, 0), (1, 1), (1, 2), (1, 3), (1, 4), (2, 0), (2, 1), (2, 2), (2, 3), (2, 4), (3, 0), (3, 1), (4, 3))\n",
      "Dominating set found: ((0, 0), (0, 1), (0, 2), (0, 3), (0, 4), (1, 0), (1, 1), (1, 2), (1, 3), (1, 4), (2, 0), (2, 1), (2, 2), (2, 3), (2, 4), (3, 0), (3, 1), (3, 2), (4, 3))\n",
      "Dominating set found: ((0, 0), (0, 1), (0, 2), (0, 3), (0, 4), (1, 0), (1, 1), (1, 2), (1, 3), (1, 4), (2, 0), (2, 1), (2, 2), (2, 3), (2, 4), (3, 0), (3, 1), (3, 2), (3, 3), (3, 4))\n",
      "Dominating set found: ((0, 0), (0, 1), (0, 2), (0, 3), (0, 4), (1, 0), (1, 1), (1, 2), (1, 3), (1, 4), (2, 0), (2, 1), (2, 2), (2, 3), (2, 4), (3, 0), (3, 1), (3, 2), (3, 3), (3, 4), (4, 0))\n",
      "Dominating set found: ((0, 0), (0, 1), (0, 2), (0, 3), (0, 4), (1, 0), (1, 1), (1, 2), (1, 3), (1, 4), (2, 0), (2, 1), (2, 2), (2, 3), (2, 4), (3, 0), (3, 1), (3, 2), (3, 3), (3, 4), (4, 0), (4, 1))\n",
      "Dominating set found: ((0, 0), (0, 1), (0, 2), (0, 3), (0, 4), (1, 0), (1, 1), (1, 2), (1, 3), (1, 4), (2, 0), (2, 1), (2, 2), (2, 3), (2, 4), (3, 0), (3, 1), (3, 2), (3, 3), (3, 4), (4, 0), (4, 1), (4, 2))\n",
      "Dominating set found: ((0, 0), (0, 1), (0, 2), (0, 3), (0, 4), (1, 0), (1, 1), (1, 2), (1, 3), (1, 4), (2, 0), (2, 1), (2, 2), (2, 3), (2, 4), (3, 0), (3, 1), (3, 2), (3, 3), (3, 4), (4, 0), (4, 1), (4, 2), (4, 3))\n",
      "Dominating set found: ((0, 0), (0, 1), (0, 2), (0, 3), (0, 4), (1, 0), (1, 1), (1, 2), (1, 3), (1, 4), (2, 0), (2, 1), (2, 2), (2, 3), (2, 4), (3, 0), (3, 1), (3, 2), (3, 3), (3, 4), (4, 0), (4, 1), (4, 2), (4, 3), (4, 4))\n"
     ]
    }
   ],
   "source": [
    "# Brute force\n",
    "for k in range(1, rows*cols+1):\n",
    "    for nodes in itertools.combinations(grid_graph.nodes(), k):\n",
    "        if is_connected_dominating_set(grid_graph, nodes):\n",
    "            print(\"Dominating set found:\", nodes)\n",
    "            break"
   ]
  },
  {
   "cell_type": "code",
   "execution_count": null,
   "id": "52196378",
   "metadata": {},
   "outputs": [],
   "source": []
  }
 ],
 "metadata": {
  "kernelspec": {
   "display_name": ".conda",
   "language": "python",
   "name": "python3"
  },
  "language_info": {
   "codemirror_mode": {
    "name": "ipython",
    "version": 3
   },
   "file_extension": ".py",
   "mimetype": "text/x-python",
   "name": "python",
   "nbconvert_exporter": "python",
   "pygments_lexer": "ipython3",
   "version": "3.9.21"
  }
 },
 "nbformat": 4,
 "nbformat_minor": 5
}
