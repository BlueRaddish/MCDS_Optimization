{
 "cells": [
  {
   "cell_type": "markdown",
   "id": "b2e5a214",
   "metadata": {},
   "source": [
    "# Greedy Algorithm"
   ]
  },
  {
   "cell_type": "markdown",
   "id": "159c55de",
   "metadata": {},
   "source": [
    "## Setup"
   ]
  },
  {
   "cell_type": "code",
   "execution_count": null,
   "id": "73501723",
   "metadata": {},
   "outputs": [],
   "source": [
    "from graphs_2d import *"
   ]
  },
  {
   "cell_type": "markdown",
   "id": "0cf03965",
   "metadata": {},
   "source": [
    "## Graph Definition"
   ]
  },
  {
   "cell_type": "code",
   "execution_count": null,
   "id": "40e44ccf",
   "metadata": {},
   "outputs": [],
   "source": [
    "# Generate a single graph\n",
    "rows, cols = 5, 5\n",
    "grid_graph = generate_2D_grid_graph(rows, cols)\n",
    "adjacency_matrix = nx.adjacency_matrix(grid_graph).todense()\n",
    "\n",
    "plot_graph(grid_graph)\n",
    "\n",
    "type(grid_graph)"
   ]
  },
  {
   "cell_type": "markdown",
   "id": "462d4c73",
   "metadata": {},
   "source": [
    "## Starting Node Selection"
   ]
  },
  {
   "cell_type": "markdown",
   "id": "19743419",
   "metadata": {},
   "source": [
    "### Weighted Select"
   ]
  },
  {
   "cell_type": "code",
   "execution_count": null,
   "id": "e04e1a7c",
   "metadata": {},
   "outputs": [],
   "source": [
    "# Run the selection 10000 times\n",
    "counts = np.zeros(len(grid_graph.nodes()))\n",
    "for _ in range(100000):\n",
    "    node = select_starting_node_8way_probablistic(grid_graph)\n",
    "    node_index = list(grid_graph.nodes()).index(node)\n",
    "    counts[node_index] += 1\n",
    "\n",
    "# Reshape counts to match the grid for visualization\n",
    "counts_matrix = counts.reshape((rows, cols))\n",
    "\n",
    "plt.figure(figsize=(6, 5))\n",
    "plt.imshow(counts_matrix, cmap='viridis', interpolation='nearest')\n",
    "plt.colorbar(label='Number of times selected')\n",
    "plt.title('Node Selection Frequency (100000 trials)')\n",
    "plt.xlabel('Column')\n",
    "plt.ylabel('Row')\n",
    "plt.show()"
   ]
  },
  {
   "cell_type": "markdown",
   "id": "c3c95e9d",
   "metadata": {},
   "source": [
    "### Equal Select From Highest Neighbors"
   ]
  },
  {
   "cell_type": "code",
   "execution_count": null,
   "id": "56baa5a7",
   "metadata": {},
   "outputs": [],
   "source": [
    "# Run the selection 10000 times\n",
    "counts = np.zeros(len(grid_graph.nodes()))\n",
    "for _ in range(100000):\n",
    "    node = select_starting_node_max_neighbors(grid_graph)\n",
    "    node_index = list(grid_graph.nodes()).index(node)\n",
    "    counts[node_index] += 1\n",
    "\n",
    "# Reshape counts to match the grid for visualization\n",
    "counts_matrix = counts.reshape((rows, cols))\n",
    "\n",
    "plt.figure(figsize=(6, 5))\n",
    "plt.imshow(counts_matrix, cmap='viridis', interpolation='nearest')\n",
    "plt.colorbar(label='Number of times selected')\n",
    "plt.title('Node Selection Frequency (100000 trials)')\n",
    "plt.xlabel('Column')\n",
    "plt.ylabel('Row')\n",
    "plt.show()"
   ]
  },
  {
   "cell_type": "markdown",
   "id": "bd3dc464",
   "metadata": {},
   "source": [
    "## Finding MCDS"
   ]
  },
  {
   "cell_type": "markdown",
   "id": "e652fab5",
   "metadata": {},
   "source": [
    "### Greedy Algorithm Function"
   ]
  },
  {
   "cell_type": "code",
   "execution_count": null,
   "id": "787eeec8",
   "metadata": {},
   "outputs": [],
   "source": [
    "def greedy_connected_dominating_set(G, start_node):\n",
    "    dominating_set = set([start_node])\n",
    "    dominated = set([start_node])\n",
    "    dominated.update(adjacent_8(G, start_node))\n",
    "\n",
    "    # While not all nodes are dominated\n",
    "    while len(dominated) < G.number_of_nodes():\n",
    "        # Candidates: nodes adjacent (4-way) to the dominating set, not already in it\n",
    "        candidates = set()\n",
    "        for node in dominating_set:\n",
    "            for neighbor in adjacent_4(G, node):\n",
    "                if neighbor not in dominating_set:\n",
    "                    candidates.add(neighbor)\n",
    "        # For each candidate, count how many new nodes it would dominate\n",
    "        best_candidate = None\n",
    "        max_new = -1\n",
    "        for candidate in candidates:\n",
    "            new_dominated = set(adjacent_8(G, candidate) + [candidate]) - dominated\n",
    "            if len(new_dominated) > max_new:\n",
    "                max_new = len(new_dominated)\n",
    "                best_candidate = candidate\n",
    "        # Add the best candidate to the dominating set\n",
    "        if best_candidate is not None:\n",
    "            dominating_set.add(best_candidate)\n",
    "            dominated.update(adjacent_8(G, best_candidate))\n",
    "            dominated.add(best_candidate)\n",
    "        else:\n",
    "            # If no candidate found (should not happen in a connected grid), break\n",
    "            break\n",
    "    return dominating_set"
   ]
  },
  {
   "cell_type": "markdown",
   "id": "fe786d32",
   "metadata": {},
   "source": [
    "### Visualize Greedy Solution"
   ]
  },
  {
   "cell_type": "code",
   "execution_count": null,
   "id": "075cbfb5",
   "metadata": {},
   "outputs": [],
   "source": [
    "overlay_subset(grid_graph, greedy_connected_dominating_set(grid_graph, select_starting_node_8way_probablistic(grid_graph)))"
   ]
  },
  {
   "cell_type": "code",
   "execution_count": null,
   "id": "a82fec99",
   "metadata": {},
   "outputs": [],
   "source": [
    "overlay_subset(grid_graph, greedy_connected_dominating_set(grid_graph, select_starting_node_max_neighbors(grid_graph)))"
   ]
  },
  {
   "cell_type": "markdown",
   "id": "99c904f6",
   "metadata": {},
   "source": [
    "#### Probabilistic Greedy Algorithm Function"
   ]
  },
  {
   "cell_type": "code",
   "execution_count": null,
   "id": "601efe55",
   "metadata": {},
   "outputs": [],
   "source": [
    "def probabilistic_greedy_connected_dominating_set(G, start_node):\n",
    "    dominating_set = set([start_node])\n",
    "    dominated = set([start_node])\n",
    "    dominated.update(adjacent_8(G, start_node))\n",
    "\n",
    "    while len(dominated) < G.number_of_nodes():\n",
    "        # Candidates: nodes adjacent (4-way) to the dominating set, not already in it\n",
    "        candidates = set()\n",
    "        for node in dominating_set:\n",
    "            for neighbor in adjacent_4(G, node):\n",
    "                if neighbor not in dominating_set:\n",
    "                    candidates.add(neighbor)\n",
    "        if not candidates:\n",
    "            break  # Should not happen in a connected grid\n",
    "\n",
    "        # For each candidate, count how many new nodes it would dominate\n",
    "        candidate_list = list(candidates)\n",
    "        new_dominated_counts = []\n",
    "        for candidate in candidate_list:\n",
    "            new_dominated = set(adjacent_8(G, candidate) + [candidate]) - dominated\n",
    "            new_dominated_counts.append(len(new_dominated))\n",
    "\n",
    "        # If all candidates would dominate 0 new nodes, break\n",
    "        if sum(new_dominated_counts) == 0:\n",
    "            break\n",
    "\n",
    "        # Select a candidate with probability proportional to new_dominated_counts\n",
    "        selected_candidate = random.choices(candidate_list, weights=new_dominated_counts, k=1)[0]\n",
    "\n",
    "        dominating_set.add(selected_candidate)\n",
    "        dominated.update(adjacent_8(G, selected_candidate))\n",
    "        dominated.add(selected_candidate)\n",
    "\n",
    "    return dominating_set"
   ]
  },
  {
   "cell_type": "markdown",
   "id": "09784e86",
   "metadata": {},
   "source": [
    "#### Visualize Probabilistic Greedy Function"
   ]
  },
  {
   "cell_type": "code",
   "execution_count": null,
   "id": "342c400a",
   "metadata": {},
   "outputs": [],
   "source": [
    "overlay_subset(grid_graph, probabilistic_greedy_connected_dominating_set(grid_graph, select_starting_node_8way_probablistic(grid_graph)))"
   ]
  },
  {
   "cell_type": "markdown",
   "id": "4afcb19d",
   "metadata": {},
   "source": [
    "### Comparisons"
   ]
  },
  {
   "cell_type": "markdown",
   "id": "d79ba2ff",
   "metadata": {},
   "source": [
    "#### Comparison of Starting Node Selection Methods"
   ]
  },
  {
   "cell_type": "code",
   "execution_count": null,
   "id": "6a4fc0d4",
   "metadata": {},
   "outputs": [],
   "source": [
    "# Run many trials to compare average CDS size for both starting node selection methods\n",
    "num_trials = 100\n",
    "\n",
    "s1 = print_runtime_greedy(\"Probabilistic start greedy\", select_starting_node_8way_probablistic, greedy_connected_dominating_set, grid_graph, num_trials)\n",
    "s2 = print_runtime_greedy(\"Maximum degree start greedy\", select_starting_node_max_neighbors, greedy_connected_dominating_set, grid_graph, num_trials)\n",
    "s3 = print_runtime_greedy(\"Maximum degree start probabilistic\", select_starting_node_max_neighbors, probabilistic_greedy_connected_dominating_set, grid_graph, num_trials)\n",
    "s4 = print_runtime_greedy(\"Probabilistic start probabilistic\", select_starting_node_8way_probablistic, probabilistic_greedy_connected_dominating_set, grid_graph, num_trials)\n",
    "\n",
    "import matplotlib.pyplot as plt\n",
    "\n",
    "data = [s1, s2, s3, s4]\n",
    "labels = [\n",
    "    \"Probabilistic start greedy\",\n",
    "    \"Maximum degree start greedy\",\n",
    "    \"Maximum degree start probabilistic\",\n",
    "    \"Probabilistic start probabilistic\"\n",
    "]\n",
    "\n",
    "plt.figure(figsize=(8, 6))\n",
    "plt.boxplot(data, labels=labels)\n",
    "plt.ylabel(\"CDS Size\")\n",
    "plt.title(\"Comparison of CDS Sizes Across Methods\")\n",
    "plt.xticks(rotation=15)\n",
    "plt.show()"
   ]
  },
  {
   "cell_type": "code",
   "execution_count": null,
   "id": "aa07542c",
   "metadata": {},
   "outputs": [],
   "source": [
    "grid_graph = generate_2D_grid_graph(10, 10)\n",
    "\n",
    "s1 = print_runtime_greedy(\"Probabilistic start greedy\", select_starting_node_8way_probablistic, greedy_connected_dominating_set, grid_graph, num_trials)\n",
    "s2 = print_runtime_greedy(\"Maximum degree start greedy\", select_starting_node_max_neighbors, greedy_connected_dominating_set, grid_graph, num_trials)\n",
    "s3 = print_runtime_greedy(\"Maximum degree start probabilistic\", select_starting_node_max_neighbors, probabilistic_greedy_connected_dominating_set, grid_graph, num_trials)\n",
    "s4 = print_runtime_greedy(\"Probabilistic start probabilistic\", select_starting_node_8way_probablistic, probabilistic_greedy_connected_dominating_set, grid_graph, num_trials)"
   ]
  },
  {
   "cell_type": "code",
   "execution_count": null,
   "id": "37d034dc",
   "metadata": {},
   "outputs": [],
   "source": [
    "grid_graph = generate_2D_grid_graph(30, 30)\n",
    "\n",
    "print_runtime_greedy(\"Probabilistic start greedy\", select_starting_node_8way_probablistic, greedy_connected_dominating_set, grid_graph, num_trials)\n",
    "print_runtime_greedy(\"Maximum degree start greedy\", select_starting_node_max_neighbors, greedy_connected_dominating_set, grid_graph, num_trials)\n",
    "print_runtime_greedy(\"Maximum degree start probabilistic\", select_starting_node_max_neighbors, probabilistic_greedy_connected_dominating_set, grid_graph, num_trials)\n",
    "print_runtime_greedy(\"Probabilistic start probabilistic\", select_starting_node_8way_probablistic, probabilistic_greedy_connected_dominating_set, grid_graph, num_trials)"
   ]
  },
  {
   "cell_type": "code",
   "execution_count": null,
   "id": "a3892964",
   "metadata": {},
   "outputs": [],
   "source": [
    "# Increase trial time latr"
   ]
  }
 ],
 "metadata": {
  "kernelspec": {
   "display_name": ".venv",
   "language": "python",
   "name": "python3"
  },
  "language_info": {
   "codemirror_mode": {
    "name": "ipython",
    "version": 3
   },
   "file_extension": ".py",
   "mimetype": "text/x-python",
   "name": "python",
   "nbconvert_exporter": "python",
   "pygments_lexer": "ipython3",
   "version": "3.9.13"
  }
 },
 "nbformat": 4,
 "nbformat_minor": 5
}
