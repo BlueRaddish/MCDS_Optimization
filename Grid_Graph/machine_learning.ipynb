{
 "cells": [
  {
   "cell_type": "markdown",
   "id": "c11b2852",
   "metadata": {},
   "source": [
    "# Machine Learning Approach"
   ]
  },
  {
   "cell_type": "markdown",
   "id": "19b04c7f",
   "metadata": {},
   "source": [
    "## Setup"
   ]
  },
  {
   "cell_type": "code",
   "execution_count": null,
   "id": "383d1bd8",
   "metadata": {},
   "outputs": [],
   "source": [
    "from graphs_2d import *"
   ]
  },
  {
   "cell_type": "markdown",
   "id": "eeade68f",
   "metadata": {},
   "source": [
    "## Graph Definition"
   ]
  },
  {
   "cell_type": "code",
   "execution_count": null,
   "id": "03586842",
   "metadata": {},
   "outputs": [],
   "source": [
    "# Create a 2D grid graph using the custom function\n",
    "G_2d = generate_2D_grid_graph(5, 5)\n",
    "plot_graph(G_2d, 'grid')\n",
    "\n",
    "# Create an Erdos-Renyi random graph with average degree 5 (for example)\n",
    "G_er = generate_random_graph_with_avg_degree(25, 5)\n",
    "plot_graph(G_er)"
   ]
  },
  {
   "cell_type": "markdown",
   "id": "d2277ad6",
   "metadata": {},
   "source": [
    "## Starting Node Selection"
   ]
  },
  {
   "cell_type": "markdown",
   "id": "ea54ed5e",
   "metadata": {},
   "source": [
    "## Finding MCDS"
   ]
  },
  {
   "cell_type": "markdown",
   "id": "7f502dc6",
   "metadata": {},
   "source": []
  }
 ],
 "metadata": {
  "kernelspec": {
   "display_name": ".venv",
   "language": "python",
   "name": "python3"
  },
  "language_info": {
   "codemirror_mode": {
    "name": "ipython",
    "version": 3
   },
   "file_extension": ".py",
   "mimetype": "text/x-python",
   "name": "python",
   "nbconvert_exporter": "python",
   "pygments_lexer": "ipython3",
   "version": "3.9.13"
  }
 },
 "nbformat": 4,
 "nbformat_minor": 5
}
